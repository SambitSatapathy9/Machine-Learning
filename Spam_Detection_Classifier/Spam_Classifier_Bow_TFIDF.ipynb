{
 "cells": [
  {
   "cell_type": "markdown",
   "id": "b6c977e5-ba00-48fd-87b3-4b5b18f44fe1",
   "metadata": {},
   "source": [
    "# NLP Tutorial\n",
    "\n",
    "## 1. Importing necessary dependencies"
   ]
  },
  {
   "cell_type": "code",
   "execution_count": null,
   "id": "af901c9a-29c8-4dc1-b231-54c33bd7dfec",
   "metadata": {},
   "outputs": [],
   "source": [
    "import numpy as np\n",
    "import pandas as pd\n",
    "import nltk\n",
    "# nltk.download(\"stopwords\")"
   ]
  },
  {
   "cell_type": "code",
   "execution_count": null,
   "id": "5cde1a3e-296e-46e6-a419-c60cca20a198",
   "metadata": {},
   "outputs": [],
   "source": [
    "##  2. Importing the dataset\n",
    "- The dataset is a tab-separated spam classification text where we will be implementing NLP methods like BoW, TF-IDF, and Word embedding techniques. \n",
    "- We have two columns, output- label and input- message. "
   ]
  },
  {
   "cell_type": "code",
   "execution_count": null,
   "id": "52a67b21-f3d9-47b7-90f8-1aa23594ccb0",
   "metadata": {},
   "outputs": [],
   "source": [
    "messages = pd.read_csv(\"SMSSpamCollection.txt\", sep='\\t', names=['label','message'])\n",
    "#sep:\"separator.\" It specifies the delimiter that separates columns in the CSV file. \n",
    "#In this case, \\t denotes a tab character"
   ]
  },
  {
   "cell_type": "code",
   "execution_count": null,
   "id": "72e0db11-3515-4b30-8a48-73e06dba03e4",
   "metadata": {},
   "outputs": [],
   "source": [
    "messages\n",
    "messages.shape"
   ]
  },
  {
   "cell_type": "code",
   "execution_count": null,
   "id": "6bcae8a4-287a-4171-86a0-56b0dbac1fb3",
   "metadata": {},
   "outputs": [],
   "source": [
    "messages['message'].loc[120]"
   ]
  },
  {
   "cell_type": "code",
   "execution_count": null,
   "id": "b77be232-a0e2-4e39-88dc-d3a2797d83fb",
   "metadata": {},
   "outputs": [],
   "source": [
    "### Steps to be followed\n",
    "1. Text Preprocessing 1 - Tokenisation, Stopwords, stemming, lemmatization using NLTK\n",
    "2. Text Preprocessing 2 - BoW, TF-IDF, Word2Vec, AvgWord2Vec using gensim module.\n",
    "\n",
    "#### re - regular expression module\n",
    "- re is a module in Python that stands for regular expression.\n",
    "- Regular expressions are sequences of characters that define a search pattern, mainly used for pattern matching within strings.\n",
    "- The re module provides functions to perform various operations using regular expressions in Python."
   ]
  },
  {
   "cell_type": "code",
   "execution_count": null,
   "id": "fe94ee8c-483c-4be1-a4ca-a49f36e0dd8d",
   "metadata": {},
   "outputs": [],
   "source": [
    "import re #regular expression\n",
    "import nltk\n",
    "# nltk.download(\"stopwords\")"
   ]
  },
  {
   "cell_type": "code",
   "execution_count": null,
   "id": "0f74ff4a-c893-430a-b88a-d705b9b3615c",
   "metadata": {},
   "outputs": [],
   "source": [
    "#Stemming\n",
    "from nltk.corpus import stopwords\n",
    "from nltk.stem.porter import PorterStemmer\n",
    "ps = PorterStemmer()\n",
    "# from nltk.stem import PorterStemmer"
   ]
  },
  {
   "cell_type": "code",
   "execution_count": null,
   "id": "4fe561ef-fbf6-4188-888d-478bd10f889f",
   "metadata": {
    "scrolled": true
   },
   "outputs": [],
   "source": [
    "corpus = []\n",
    "for i in range(0, len(messages)):\n",
    "    review = re.sub('[^a-zA-Z0-9]', ' ', messages['message'][i]) #to remove all the characters and keep only words\n",
    "    review = review.lower()\n",
    "    review = review.split()\n",
    "    #apply stemming\n",
    "    review = [ps.stem(word) for word in review if word not in stopwords.words(\"english\")]\n",
    "    review = ' '.join(review)\n",
    "    corpus.append(review)\n",
    "corpus\n"
   ]
  },
  {
   "cell_type": "code",
   "execution_count": null,
   "id": "e3f1598b-18ca-403d-9e13-4268eccb3121",
   "metadata": {},
   "outputs": [],
   "source": [
    "- **re.sub(pattern, replacement, string)** is the syntax for using re.sub() to **substitute patterns in a string.**\n",
    "- attempt to remove all characters except alphabetic letters (both lowercase and uppercase) from the messages['message'[i]] string.\n",
    "\n",
    "### Creating a Bag of Words model"
   ]
  },
  {
   "cell_type": "code",
   "execution_count": null,
   "id": "b55006bc-7c8a-4617-979d-e8ee2e5f2f55",
   "metadata": {},
   "outputs": [],
   "source": [
    "#Creating a Bag of Words model\n",
    "from sklearn.feature_extraction.text import CountVectorizer\n",
    "cv = CountVectorizer(max_features=2500,binary=True, ngram_range=(1,2))\n",
    "X = cv.fit_transform(corpus).toarray()\n",
    "X"
   ]
  },
  {
   "cell_type": "code",
   "execution_count": null,
   "id": "dbaeebd0-515e-4939-867c-c53f2bb4216a",
   "metadata": {},
   "outputs": [],
   "source": [
    "y = pd.get_dummies(messages['label']).astype(int)\n",
    "y = y.iloc[:,1].values\n",
    "y"
   ]
  },
  {
   "cell_type": "code",
   "execution_count": null,
   "id": "a67f53b2-b6cd-4b16-921e-e143d6518258",
   "metadata": {},
   "outputs": [],
   "source": [
    "### Train-test split"
   ]
  },
  {
   "cell_type": "code",
   "execution_count": null,
   "id": "18f37e09-ae2e-441d-9093-c9c3920f2c60",
   "metadata": {},
   "outputs": [],
   "source": [
    "from sklearn.model_selection import train_test_split\n",
    "X_train,X_test,y_train,y_test = train_test_split(X,y,train_size=0.80,random_state=69)"
   ]
  },
  {
   "cell_type": "code",
   "execution_count": null,
   "id": "ffefe7a7-d8fd-42fb-ab51-9d316722736c",
   "metadata": {},
   "outputs": [],
   "source": [
    "from sklearn.naive_bayes import MultinomialNB\n",
    "spam_detect_model = MultinomialNB().fit(X_train,y_train)"
   ]
  },
  {
   "cell_type": "code",
   "execution_count": null,
   "id": "a61df28a-c963-4c53-b667-e507f6801727",
   "metadata": {},
   "outputs": [],
   "source": [
    "y_pred = spam_detect_model.predict(X_test)"
   ]
  },
  {
   "cell_type": "code",
   "execution_count": null,
   "id": "dda9c4ec-0863-4395-bcb1-b1092691205b",
   "metadata": {},
   "outputs": [],
   "source": [
    "from sklearn.metrics import accuracy_score,classification_report\n",
    "score = accuracy_score(y_pred, y_test)\n",
    "print(f\"Accuracy Score: {score}\")\n",
    "print(classification_report(y_test,y_pred))"
   ]
  },
  {
   "cell_type": "code",
   "execution_count": null,
   "id": "120c4d11-b919-4e0e-a052-c774a89d322c",
   "metadata": {},
   "outputs": [],
   "source": [
    "## Creating a TF-IDF Model"
   ]
  },
  {
   "cell_type": "code",
   "execution_count": null,
   "id": "bf7c4d92-a914-4100-8ac3-396f5957202b",
   "metadata": {},
   "outputs": [],
   "source": [
    "from sklearn.feature_extraction.text import TfidfVectorizer\n",
    "tv = TfidfVectorizer(max_features=2500, ngram_range=(1,2))\n",
    "X = tv.fit_transform(corpus).toarray()\n",
    "X"
   ]
  },
  {
   "cell_type": "code",
   "execution_count": null,
   "id": "6f0fa396-963f-4519-9de0-ba365dcc21df",
   "metadata": {},
   "outputs": [],
   "source": [
    "#Train-test Split\n",
    "from sklearn.model_selection import train_test_split\n",
    "X_train,X_test,y_train,y_test = train_test_split(X, y, test_size=0.20, random_state=69)"
   ]
  },
  {
   "cell_type": "code",
   "execution_count": null,
   "id": "7ccbc1c2-d9e3-4c46-8074-c0bd02aaba6a",
   "metadata": {},
   "outputs": [],
   "source": [
    "from sklearn.naive_bayes import MultinomialNB\n",
    "spam_detect_model = MultinomialNB().fit(X_train,y_train)"
   ]
  },
  {
   "cell_type": "code",
   "execution_count": null,
   "id": "e6b15b92-0610-4d34-8f90-4c242365a500",
   "metadata": {},
   "outputs": [],
   "source": [
    "y_pred = spam_detect_model.predict(X_test)"
   ]
  },
  {
   "cell_type": "code",
   "execution_count": null,
   "id": "94f987b8-50d8-4c5d-b0b3-552aa5544bc3",
   "metadata": {},
   "outputs": [],
   "source": [
    "from sklearn.metrics import accuracy_score,classification_report\n",
    "score = accuracy_score(y_pred, y_test)\n",
    "print(f\"Accuracy Score: {score}\")\n",
    "print(classification_report(y_pred, y_test))"
   ]
  },
  {
   "cell_type": "code",
   "execution_count": null,
   "id": "746e822f-d375-4eb4-86e0-f71d4baa494d",
   "metadata": {},
   "outputs": [],
   "source": [
    "## Using Random Forest"
   ]
  },
  {
   "cell_type": "code",
   "execution_count": null,
   "id": "5bc1289e-26ff-4236-9bf0-fbc2de153ec9",
   "metadata": {},
   "outputs": [],
   "source": [
    "from sklearn.ensemble import RandomForestClassifier\n",
    "rf = RandomForestClassifier()\n",
    "rf.fit(X_train,y_train)\n",
    "y_pred_rf = rf.predict(X_test)\n",
    "score = accuracy_score(y_test, y_pred_rf)\n",
    "print(score)\n",
    "print(classification_report(y_test, y_pred_rf))"
   ]
  },
  {
   "cell_type": "code",
   "execution_count": null,
   "id": "a3e3a15c-6d55-4743-9e0b-bfccdbf8aea8",
   "metadata": {},
   "outputs": [],
   "source": []
  }
 ],
 "metadata": {
  "kernelspec": {
   "display_name": "Python 3 (ipykernel)",
   "language": "python",
   "name": "python3"
  },
  "language_info": {
   "codemirror_mode": {
    "name": "ipython",
    "version": 3
   },
   "file_extension": ".py",
   "mimetype": "text/x-python",
   "name": "python",
   "nbconvert_exporter": "python",
   "pygments_lexer": "ipython3",
   "version": "3.12.1"
  }
 },
 "nbformat": 4,
 "nbformat_minor": 5
}
